{
 "cells": [
  {
   "cell_type": "code",
   "execution_count": 109,
   "metadata": {},
   "outputs": [
    {
     "data": {
      "text/plain": [
       "54"
      ]
     },
     "execution_count": 109,
     "metadata": {},
     "output_type": "execute_result"
    }
   ],
   "source": [
    "54"
   ]
  },
  {
   "cell_type": "code",
   "execution_count": 110,
   "metadata": {},
   "outputs": [
    {
     "name": "stdout",
     "output_type": "stream",
     "text": [
      "Hello \n"
     ]
    }
   ],
   "source": [
    "print(\"Hello \")"
   ]
  },
  {
   "cell_type": "code",
   "execution_count": 111,
   "metadata": {},
   "outputs": [],
   "source": [
    "import os"
   ]
  },
  {
   "cell_type": "code",
   "execution_count": 112,
   "metadata": {},
   "outputs": [
    {
     "data": {
      "text/plain": [
       "'c:\\\\AI\\\\ChatBot\\\\E-commerce-chatbot'"
      ]
     },
     "execution_count": 112,
     "metadata": {},
     "output_type": "execute_result"
    }
   ],
   "source": [
    "%pwd"
   ]
  },
  {
   "cell_type": "code",
   "execution_count": 113,
   "metadata": {},
   "outputs": [],
   "source": [
    "os.chdir(\"../\")"
   ]
  },
  {
   "cell_type": "code",
   "execution_count": 114,
   "metadata": {},
   "outputs": [
    {
     "data": {
      "text/plain": [
       "'c:\\\\AI\\\\ChatBot'"
      ]
     },
     "execution_count": 114,
     "metadata": {},
     "output_type": "execute_result"
    }
   ],
   "source": [
    "%pwd"
   ]
  },
  {
   "cell_type": "code",
   "execution_count": 115,
   "metadata": {},
   "outputs": [],
   "source": [
    "DB_Name = os.getenv(\"DB_NAME\")\n",
    "DB_User = os.getenv(\"DB_USER\")\n",
    "DB_Host = os.getenv(\"DB_HOST\")\n",
    "DB_Port = os.getenv(\"DB_PORT\")\n",
    "DB_Password = os.getenv(\"DB_PASSWORD\")\n",
    "\n",
    "PINECONE_API_KEY = os.getenv(\"PINECONE_API_KEY\")\n",
    "OPENAI_API_KEY = os.getenv(\"OPENAI_API_KEY\")\n",
    "\n"
   ]
  },
  {
   "cell_type": "code",
   "execution_count": 116,
   "metadata": {},
   "outputs": [],
   "source": [
    "import psycopg2\n",
    "\n",
    "conn = psycopg2.connect(\n",
    "    host=DB_Host,\n",
    "    port=DB_Port,\n",
    "    database=DB_Name,\n",
    "    user=DB_User,\n",
    "    password=DB_Password\n",
    ")\n",
    "\n",
    "cursor = conn.cursor()\n",
    "cursor.execute(\"\"\"\n",
    "SELECT p.id, p.name, p.description, p.brand, c.name AS category,\n",
    "    (SELECT json_agg(json_build_object('rating', r.rating, 'text', r.review_text, 'reviewer', r.reviewer_name))\n",
    "     FROM reviews r WHERE r.product_id = p.id) as reviews\n",
    "FROM products p\n",
    "JOIN categories c ON p.category_id = c.id\n",
    "\"\"\")\n",
    "products = cursor.fetchall()\n"
   ]
  },
  {
   "cell_type": "code",
   "execution_count": 117,
   "metadata": {},
   "outputs": [
    {
     "data": {
      "text/plain": [
       "[(2,\n",
       "  'Samsung Galaxy S23',\n",
       "  'Flagship Android phone with great performance and display.',\n",
       "  'Samsung',\n",
       "  'Smartphones',\n",
       "  [{'rating': 4.6,\n",
       "    'text': 'Solid Android experience. Fast and sleek.',\n",
       "    'reviewer': 'Raj'}]),\n",
       " (1,\n",
       "  'iPhone 14 Pro',\n",
       "  'Apple smartphone with A16 Bionic chip and 48MP camera.',\n",
       "  'Apple',\n",
       "  'Smartphones',\n",
       "  [{'rating': 4.8,\n",
       "    'text': 'Amazing camera and super smooth performance!',\n",
       "    'reviewer': 'John Doe'},\n",
       "   {'rating': 4.5,\n",
       "    'text': 'Battery life could be better but love the display.',\n",
       "    'reviewer': 'Emily'}]),\n",
       " (4,\n",
       "  'Dell XPS 13',\n",
       "  'Compact Windows laptop with 11th-gen Intel i7.',\n",
       "  'Dell',\n",
       "  'Laptops',\n",
       "  [{'rating': 4.3,\n",
       "    'text': 'Great build, but fan gets noisy under load.',\n",
       "    'reviewer': 'Liam'}]),\n",
       " (3,\n",
       "  'MacBook Air M2',\n",
       "  'Lightweight Apple laptop with M2 chip.',\n",
       "  'Apple',\n",
       "  'Laptops',\n",
       "  [{'rating': 4.9,\n",
       "    'text': 'Perfect for work and study. Super fast and lightweight.',\n",
       "    'reviewer': 'Sophia'}]),\n",
       " (5,\n",
       "  'Sony WH-1000XM5',\n",
       "  'Noise-cancelling over-ear headphones.',\n",
       "  'Sony',\n",
       "  'Headphones',\n",
       "  [{'rating': 4.7,\n",
       "    'text': 'Incredible noise cancellation, great sound quality.',\n",
       "    'reviewer': 'Noah'}]),\n",
       " (6,\n",
       "  'Apple Watch Series 8',\n",
       "  'Smartwatch with health tracking and fitness features.',\n",
       "  'Apple',\n",
       "  'Smartwatches',\n",
       "  [{'rating': 4.2,\n",
       "    'text': 'Good fitness features, but battery doesnâ€™t last long.',\n",
       "    'reviewer': 'Mia'}])]"
      ]
     },
     "execution_count": 117,
     "metadata": {},
     "output_type": "execute_result"
    }
   ],
   "source": [
    "products"
   ]
  },
  {
   "cell_type": "code",
   "execution_count": 118,
   "metadata": {},
   "outputs": [],
   "source": [
    "# print(PINECONE_API_KEY)\n",
    "import json"
   ]
  },
  {
   "cell_type": "code",
   "execution_count": 119,
   "metadata": {},
   "outputs": [],
   "source": [
    "def prepare_text(product):\n",
    "    product_id, name, description, brand, category, reviews = product\n",
    "    text = f\"Product: {name}\\nDescription: {description}\\nBrand: {brand}\\nCategory: {category}\\n\"\n",
    "    if reviews:  # If there are reviews, add them to the text\n",
    "        for review in reviews:\n",
    "            text += f\"Review ({review['rating']} stars by {review['reviewer']}): {review['text']}\\n\"\n",
    "    return text\n"
   ]
  },
  {
   "cell_type": "code",
   "execution_count": 120,
   "metadata": {},
   "outputs": [
    {
     "name": "stdout",
     "output_type": "stream",
     "text": [
      "['Product: Samsung Galaxy S23\\nDescription: Flagship Android phone with great performance and display.\\nBrand: Samsung\\nCategory: Smartphones\\nReview (4.6 stars by Raj): Solid Android experience. Fast and sleek.\\n', 'Product: iPhone 14 Pro\\nDescription: Apple smartphone with A16 Bionic chip and 48MP camera.\\nBrand: Apple\\nCategory: Smartphones\\nReview (4.8 stars by John Doe): Amazing camera and super smooth performance!\\nReview (4.5 stars by Emily): Battery life could be better but love the display.\\n', 'Product: Dell XPS 13\\nDescription: Compact Windows laptop with 11th-gen Intel i7.\\nBrand: Dell\\nCategory: Laptops\\nReview (4.3 stars by Liam): Great build, but fan gets noisy under load.\\n', 'Product: MacBook Air M2\\nDescription: Lightweight Apple laptop with M2 chip.\\nBrand: Apple\\nCategory: Laptops\\nReview (4.9 stars by Sophia): Perfect for work and study. Super fast and lightweight.\\n', 'Product: Sony WH-1000XM5\\nDescription: Noise-cancelling over-ear headphones.\\nBrand: Sony\\nCategory: Headphones\\nReview (4.7 stars by Noah): Incredible noise cancellation, great sound quality.\\n', 'Product: Apple Watch Series 8\\nDescription: Smartwatch with health tracking and fitness features.\\nBrand: Apple\\nCategory: Smartwatches\\nReview (4.2 stars by Mia): Good fitness features, but battery doesnâ€™t last long.\\n']\n"
     ]
    }
   ],
   "source": [
    "# Loop through all products and prepare text for each\n",
    "prepared_products = [prepare_text(product) for product in products]\n",
    "\n",
    "# Print the prepared texts (optional)\n",
    "# for text in prepared_products:\n",
    "#     print(text)\n",
    "#     print(\"-\" * 50) \n",
    "\n",
    "print(prepared_products) # Just to separate them for readability\n"
   ]
  },
  {
   "cell_type": "code",
   "execution_count": 124,
   "metadata": {},
   "outputs": [],
   "source": [
    "from sentence_transformers import SentenceTransformer\n",
    "import pinecone\n",
    "import uuid"
   ]
  },
  {
   "cell_type": "code",
   "execution_count": 125,
   "metadata": {},
   "outputs": [],
   "source": [
    "# Load the sentence-transformers model\n",
    "model = SentenceTransformer('sentence-transformers/all-MiniLM-L6-v2')"
   ]
  },
  {
   "cell_type": "code",
   "execution_count": 131,
   "metadata": {},
   "outputs": [],
   "source": [
    "from pinecone import Pinecone\n",
    "from pinecone import ServerlessSpec\n",
    "\n",
    "# Initialize Pinecone\n",
    "\n",
    "pc = Pinecone(api_key=PINECONE_API_KEY)\n",
    "\n",
    "# Define index name and parameters\n",
    "index_name = 'product-embeddings'\n",
    "dimension = 384  # Matches all-MiniLM-L6-v2 embedding size\n",
    "metric = 'cosine'  # Common metric for text embeddings\n",
    "\n",
    "# Check if index exists; create it if it doesn't\n",
    "if index_name not in pc.list_indexes().names():\n",
    "    pc.create_index(\n",
    "        name=index_name,\n",
    "        dimension=dimension,\n",
    "        metric=metric,\n",
    "        spec=ServerlessSpec(\n",
    "            cloud='aws',\n",
    "            region='us-east-1'  # Adjust region as needed, e.g., 'us-west1-gcp'\n",
    "        )\n",
    "    )\n",
    "\n",
    "# Connect to the index\n",
    "index = pc.Index(index_name)"
   ]
  },
  {
   "cell_type": "code",
   "execution_count": 133,
   "metadata": {},
   "outputs": [
    {
     "name": "stdout",
     "output_type": "stream",
     "text": [
      "Successfully uploaded 6 products to Pinecone.\n"
     ]
    }
   ],
   "source": [
    "# Your products list\n",
    "products = [\n",
    "    (2, 'Samsung Galaxy S23', 'Flagship Android phone with great performance and display.', 'Samsung', 'Smartphones', [{'rating': 4.6, 'text': 'Solid Android experience. Fast and sleek.', 'reviewer': 'Raj'}]),\n",
    "    (1, 'iPhone 14 Pro', 'Apple smartphone with A16 Bionic chip and 48MP camera.', 'Apple', 'Smartphones', [{'rating': 4.8, 'text': 'Amazing camera and super smooth performance!', 'reviewer': 'John Doe'}, {'rating': 4.5, 'text': 'Battery life could be better but love the display.', 'reviewer': 'Emily'}]),\n",
    "    (4, 'Dell XPS 13', 'Compact Windows laptop with 11th-gen Intel i7.', 'Dell', 'Laptops', [{'rating': 4.3, 'text': 'Great build, but fan gets noisy under load.', 'reviewer': 'Liam'}]),\n",
    "    (3, 'MacBook Air M2', 'Lightweight Apple laptop with M2 chip.', 'Apple', 'Laptops', [{'rating': 4.9, 'text': 'Perfect for work and study. Super fast and lightweight.', 'reviewer': 'Sophia'}]),\n",
    "    (5, 'Sony WH-1000XM5', 'Noise-cancelling over-ear headphones.', 'Sony', 'Headphones', [{'rating': 4.7, 'text': 'Incredible noise cancellation, great sound quality.', 'reviewer': 'Noah'}]),\n",
    "    (6, 'Apple Watch Series 8', 'Smartwatch with health tracking and fitness features.', 'Apple', 'Smartwatches', [{'rating': 4.2, 'text': 'Good fitness features, but battery doesn’t last long.', 'reviewer': 'Mia'}])\n",
    "]\n",
    "\n",
    "# Prepare data for Pinecone\n",
    "vectors_to_upsert = []\n",
    "for product in products:\n",
    "    product_id, name, description, brand, category, reviews = product\n",
    "    \n",
    "    # Embed the description (or optionally description + reviews)\n",
    "    text_to_embed = description  # Use description only\n",
    "    # Optional: Include reviews in embedding\n",
    "    # review_texts = ' '.join([review['text'] for review in reviews])\n",
    "    # text_to_embed = f\"{description} {review_texts}\"\n",
    "    \n",
    "    # Generate embedding\n",
    "    embedding = model.encode(text_to_embed).tolist()\n",
    "    \n",
    "    # Prepare metadata, serializing reviews to JSON string\n",
    "    metadata = {\n",
    "        'name': name,\n",
    "        'description': description,\n",
    "        'brand': brand,\n",
    "        'category': category,\n",
    "        'reviews': json.dumps(reviews)  # Convert reviews to JSON string\n",
    "    }\n",
    "    \n",
    "    # Prepare the vector tuple: (id, embedding, metadata)\n",
    "    vectors_to_upsert.append((str(product_id), embedding, metadata))\n",
    "\n",
    "# Upsert vectors to Pinecone\n",
    "index.upsert(vectors=vectors_to_upsert)\n",
    "print(f\"Successfully uploaded {len(vectors_to_upsert)} products to Pinecone.\")"
   ]
  },
  {
   "cell_type": "code",
   "execution_count": 134,
   "metadata": {},
   "outputs": [
    {
     "name": "stdout",
     "output_type": "stream",
     "text": [
      "{'dimension': 384,\n",
      " 'index_fullness': 0.0,\n",
      " 'metric': 'cosine',\n",
      " 'namespaces': {},\n",
      " 'total_vector_count': 0,\n",
      " 'vector_type': 'dense'}\n"
     ]
    }
   ],
   "source": [
    "# Check index stats\n",
    "index_stats = index.describe_index_stats()\n",
    "print(index_stats)"
   ]
  },
  {
   "cell_type": "code",
   "execution_count": 136,
   "metadata": {},
   "outputs": [
    {
     "name": "stdout",
     "output_type": "stream",
     "text": [
      "Product: iPhone 14 Pro\n",
      "Description: Apple smartphone with A16 Bionic chip and 48MP camera.\n",
      "Brand: Apple\n",
      "Category: Smartphones\n",
      "Reviews: [{'rating': 4.8, 'text': 'Amazing camera and super smooth performance!', 'reviewer': 'John Doe'}, {'rating': 4.5, 'text': 'Battery life could be better but love the display.', 'reviewer': 'Emily'}]\n"
     ]
    }
   ],
   "source": [
    "import json\n",
    "\n",
    "# Example: Fetch a vector by ID\n",
    "vector_id = \"1\"  # Example product ID (e.g., iPhone 14 Pro)\n",
    "fetch_response = index.fetch(ids=[vector_id])\n",
    "\n",
    "# Access the vectors attribute of FetchResponse\n",
    "vector_data = fetch_response.vectors.get(vector_id)\n",
    "\n",
    "if vector_data:\n",
    "    metadata = vector_data.metadata  # Access metadata attribute\n",
    "    print(\"Product:\", metadata['name'])\n",
    "    print(\"Description:\", metadata['description'])\n",
    "    print(\"Brand:\", metadata['brand'])\n",
    "    print(\"Category:\", metadata['category'])\n",
    "    # Deserialize reviews from JSON string\n",
    "    reviews = json.loads(metadata['reviews'])\n",
    "    print(\"Reviews:\", reviews)\n",
    "else:\n",
    "    print(f\"No vector found for ID: {vector_id}\")"
   ]
  },
  {
   "cell_type": "code",
   "execution_count": 137,
   "metadata": {},
   "outputs": [],
   "source": [
    "from langchain_pinecone import PineconeVectorStore\n",
    "from langchain.embeddings import HuggingFaceEmbeddings\n",
    "from langchain.chat_models import ChatOpenAI\n",
    "from langchain.chains import ConversationalRetrievalChain\n",
    "from langchain.memory import ConversationBufferMemory\n",
    "import json\n",
    "import os"
   ]
  },
  {
   "cell_type": "code",
   "execution_count": 98,
   "metadata": {},
   "outputs": [],
   "source": []
  },
  {
   "cell_type": "code",
   "execution_count": 99,
   "metadata": {},
   "outputs": [],
   "source": []
  },
  {
   "cell_type": "code",
   "execution_count": 121,
   "metadata": {},
   "outputs": [],
   "source": []
  },
  {
   "cell_type": "code",
   "execution_count": 106,
   "metadata": {},
   "outputs": [],
   "source": []
  },
  {
   "cell_type": "code",
   "execution_count": null,
   "metadata": {},
   "outputs": [],
   "source": []
  },
  {
   "cell_type": "code",
   "execution_count": null,
   "metadata": {},
   "outputs": [],
   "source": []
  },
  {
   "cell_type": "code",
   "execution_count": null,
   "metadata": {},
   "outputs": [],
   "source": []
  },
  {
   "cell_type": "code",
   "execution_count": null,
   "metadata": {},
   "outputs": [],
   "source": []
  },
  {
   "cell_type": "code",
   "execution_count": 19,
   "metadata": {},
   "outputs": [],
   "source": []
  },
  {
   "cell_type": "code",
   "execution_count": 20,
   "metadata": {},
   "outputs": [],
   "source": []
  },
  {
   "cell_type": "code",
   "execution_count": null,
   "metadata": {},
   "outputs": [],
   "source": []
  },
  {
   "cell_type": "code",
   "execution_count": null,
   "metadata": {},
   "outputs": [],
   "source": []
  },
  {
   "cell_type": "code",
   "execution_count": 93,
   "metadata": {},
   "outputs": [],
   "source": []
  },
  {
   "cell_type": "code",
   "execution_count": 94,
   "metadata": {},
   "outputs": [],
   "source": []
  },
  {
   "cell_type": "code",
   "execution_count": 95,
   "metadata": {},
   "outputs": [],
   "source": []
  },
  {
   "cell_type": "code",
   "execution_count": null,
   "metadata": {},
   "outputs": [],
   "source": []
  },
  {
   "cell_type": "code",
   "execution_count": 57,
   "metadata": {},
   "outputs": [],
   "source": []
  },
  {
   "cell_type": "code",
   "execution_count": 58,
   "metadata": {},
   "outputs": [],
   "source": []
  },
  {
   "cell_type": "code",
   "execution_count": null,
   "metadata": {},
   "outputs": [],
   "source": []
  },
  {
   "cell_type": "code",
   "execution_count": null,
   "metadata": {},
   "outputs": [],
   "source": []
  },
  {
   "cell_type": "code",
   "execution_count": 61,
   "metadata": {},
   "outputs": [],
   "source": []
  },
  {
   "cell_type": "code",
   "execution_count": null,
   "metadata": {},
   "outputs": [],
   "source": []
  },
  {
   "cell_type": "code",
   "execution_count": null,
   "metadata": {},
   "outputs": [],
   "source": []
  }
 ],
 "metadata": {
  "kernelspec": {
   "display_name": "openai-ml",
   "language": "python",
   "name": "python3"
  },
  "language_info": {
   "codemirror_mode": {
    "name": "ipython",
    "version": 3
   },
   "file_extension": ".py",
   "mimetype": "text/x-python",
   "name": "python",
   "nbconvert_exporter": "python",
   "pygments_lexer": "ipython3",
   "version": "3.10.16"
  }
 },
 "nbformat": 4,
 "nbformat_minor": 2
}
